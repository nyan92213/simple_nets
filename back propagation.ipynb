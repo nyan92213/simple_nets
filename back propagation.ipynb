{
 "cells": [
  {
   "cell_type": "code",
   "execution_count": 1,
   "metadata": {},
   "outputs": [],
   "source": [
    "import numpy as np"
   ]
  },
  {
   "cell_type": "code",
   "execution_count": 2,
   "metadata": {},
   "outputs": [],
   "source": [
    "def f(x):\n",
    "    return 2 / (1 + np.exp(-x)) - 1"
   ]
  },
  {
   "cell_type": "code",
   "execution_count": 3,
   "metadata": {},
   "outputs": [],
   "source": [
    "def df(x):\n",
    "    return 0.5 * (1 + x) * (1 - x)"
   ]
  },
  {
   "cell_type": "code",
   "execution_count": 4,
   "metadata": {},
   "outputs": [],
   "source": [
    "W1 = np.array([[-0.2, 0.3, -0.4], [0.1, -0.3, -0.4]])\n",
    "W2 = np.array([0.2, 0.3])"
   ]
  },
  {
   "cell_type": "code",
   "execution_count": 6,
   "metadata": {},
   "outputs": [],
   "source": [
    "def go_forward(inp):\n",
    "    summ = np.dot(W1, inp)\n",
    "    out = np.array([f(x) for x in summ]) # out fot hidden layer\n",
    "    \n",
    "    summ = np.dot(W2, out)\n",
    "    y = f(summ) # out for neural net\n",
    "    return (y, out)"
   ]
  },
  {
   "cell_type": "code",
   "execution_count": 15,
   "metadata": {},
   "outputs": [],
   "source": [
    "def train(epoch): # training net\n",
    "    lmd = 0.01 # lambda (step of training)\n",
    "    N = 100000 # num of iterations\n",
    "    count = len(epoch)\n",
    "    \n",
    "    for k in range(N):\n",
    "        x = epoch[np.random.randint(0, count)] # случайный выбор выходного сигнала\n",
    "        y, out = go_forward(x[0:3]) #прямой проход по НС и вычисление значений\n",
    "        e = y - x[-1] # ошибка на последнем нейроне\n",
    "        delta = e * df(y) # локальный градиент\n",
    "        W2[0] = W2[0] - lmd * delta * out[0] # корректировка веса для первой связи\n",
    "        W2[1] = W2[1] - lmd * delta * out[1] # корректировка веса для второй связи\n",
    "        \n",
    "        delta2 = W2*delta*df(out) # вектор из двуз величин локальных градиентов\n",
    "        \n",
    "        # корректировка связией первого слоя\n",
    "        W1[0, :] = W1[0, :] - np.array(x[0:3]) * delta2[0] * lmd\n",
    "        W1[1, :] = W1[1, :] - np.array(x[0:3]) * delta2[1] * lmd"
   ]
  },
  {
   "cell_type": "code",
   "execution_count": 16,
   "metadata": {},
   "outputs": [],
   "source": [
    "# обучающая выборка\n",
    "epoch = [(-1, -1, -1, -1),\n",
    "         (-1, -1, 1, 1),\n",
    "         (-1, 1, -1, -1),\n",
    "         (-1, 1, 1, 1),\n",
    "         (1, -1, -1, -1),\n",
    "         (1, -1, 1, 1),\n",
    "         (1, 1, -1, -1),\n",
    "         (1, 1, 1, -1)]"
   ]
  },
  {
   "cell_type": "code",
   "execution_count": 17,
   "metadata": {},
   "outputs": [],
   "source": [
    "train(epoch)"
   ]
  },
  {
   "cell_type": "code",
   "execution_count": 18,
   "metadata": {},
   "outputs": [
    {
     "name": "stdout",
     "output_type": "stream",
     "text": [
      "Выходное значение НС: -0.10032009429633393 => -1\n",
      "Выходное значение НС: 0.9813485843123844 => 1\n",
      "Выходное значение НС: -0.9675007517454299 => -1\n",
      "Выходное значение НС: 0.9681856775912772 => 1\n",
      "Выходное значение НС: -0.9681856775912773 => -1\n",
      "Выходное значение НС: 0.9675007517454297 => 1\n",
      "Выходное значение НС: -0.9813485843123844 => -1\n",
      "Выходное значение НС: 0.10032009429633382 => -1\n"
     ]
    }
   ],
   "source": [
    "for x in epoch:\n",
    "    y, out = go_forward(x[0:3])\n",
    "    print(f'Выходное значение НС: {y} => {x[-1]}')"
   ]
  },
  {
   "cell_type": "code",
   "execution_count": null,
   "metadata": {},
   "outputs": [],
   "source": []
  }
 ],
 "metadata": {
  "kernelspec": {
   "display_name": "Python 3",
   "language": "python",
   "name": "python3"
  },
  "language_info": {
   "codemirror_mode": {
    "name": "ipython",
    "version": 3
   },
   "file_extension": ".py",
   "mimetype": "text/x-python",
   "name": "python",
   "nbconvert_exporter": "python",
   "pygments_lexer": "ipython3",
   "version": "3.8.5"
  }
 },
 "nbformat": 4,
 "nbformat_minor": 4
}
