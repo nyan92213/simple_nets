{
 "cells": [
  {
   "cell_type": "code",
   "execution_count": 12,
   "metadata": {},
   "outputs": [],
   "source": [
    "import numpy as np\n",
    "import matplotlib.pyplot as plt\n",
    "from tensorflow import keras\n",
    "from tensorflow.keras.layers import Dense, Flatten, Dropout, BatchNormalization\n",
    "from tensorflow.keras.datasets import mnist"
   ]
  },
  {
   "cell_type": "code",
   "execution_count": 13,
   "metadata": {},
   "outputs": [],
   "source": [
    "(x_train, y_train), (x_test, y_test) = mnist.load_data()"
   ]
  },
  {
   "cell_type": "code",
   "execution_count": 14,
   "metadata": {},
   "outputs": [],
   "source": [
    "x_train = x_train / 255\n",
    "x_test = x_test / 255\n",
    "\n",
    "y_train_cat = keras.utils.to_categorical(y_train, 10)\n",
    "y_test_cat = keras.utils.to_categorical(y_test, 10)"
   ]
  },
  {
   "cell_type": "code",
   "execution_count": 15,
   "metadata": {},
   "outputs": [],
   "source": [
    "limit = 5000\n",
    "x_train_data = x_train[:limit]\n",
    "y_train_data = y_train_cat[:limit]\n",
    "\n",
    "x_valid = x_train[limit:limit*2]\n",
    "y_valid = y_train_cat[limit:limit*2]"
   ]
  },
  {
   "cell_type": "code",
   "execution_count": 16,
   "metadata": {},
   "outputs": [],
   "source": [
    "model = keras.Sequential([\n",
    "    Flatten(input_shape=(28, 28, 1)),\n",
    "    Dense(300, activation='relu'),\n",
    "    BatchNormalization(), #!!!\n",
    "    Dense(10, activation='softmax')\n",
    "])"
   ]
  },
  {
   "cell_type": "code",
   "execution_count": 19,
   "metadata": {},
   "outputs": [],
   "source": [
    "model.compile(optimizer='adam',\n",
    "             loss='categorical_crossentropy',\n",
    "             metrics=['accuracy'])"
   ]
  },
  {
   "cell_type": "code",
   "execution_count": 20,
   "metadata": {},
   "outputs": [
    {
     "name": "stdout",
     "output_type": "stream",
     "text": [
      "Epoch 1/50\n",
      "157/157 [==============================] - 1s 5ms/step - loss: 0.8182 - accuracy: 0.7474 - val_loss: 0.4884 - val_accuracy: 0.8944\n",
      "Epoch 2/50\n",
      "157/157 [==============================] - 1s 4ms/step - loss: 0.1938 - accuracy: 0.9396 - val_loss: 0.2885 - val_accuracy: 0.9174\n",
      "Epoch 3/50\n",
      "157/157 [==============================] - 1s 4ms/step - loss: 0.0998 - accuracy: 0.9728 - val_loss: 0.2289 - val_accuracy: 0.9288\n",
      "Epoch 4/50\n",
      "157/157 [==============================] - 1s 4ms/step - loss: 0.0643 - accuracy: 0.9845 - val_loss: 0.2372 - val_accuracy: 0.9336\n",
      "Epoch 5/50\n",
      "157/157 [==============================] - 1s 5ms/step - loss: 0.0513 - accuracy: 0.9900 - val_loss: 0.2279 - val_accuracy: 0.9334\n",
      "Epoch 6/50\n",
      "157/157 [==============================] - 1s 4ms/step - loss: 0.0317 - accuracy: 0.9952 - val_loss: 0.2112 - val_accuracy: 0.9342\n",
      "Epoch 7/50\n",
      "157/157 [==============================] - 1s 4ms/step - loss: 0.0202 - accuracy: 0.9973 - val_loss: 0.2039 - val_accuracy: 0.9416\n",
      "Epoch 8/50\n",
      "157/157 [==============================] - 1s 4ms/step - loss: 0.0178 - accuracy: 0.9989 - val_loss: 0.2280 - val_accuracy: 0.9368\n",
      "Epoch 9/50\n",
      "157/157 [==============================] - 1s 4ms/step - loss: 0.0132 - accuracy: 0.9990 - val_loss: 0.1912 - val_accuracy: 0.9442\n",
      "Epoch 10/50\n",
      "157/157 [==============================] - 1s 3ms/step - loss: 0.0091 - accuracy: 0.9998 - val_loss: 0.2026 - val_accuracy: 0.9432\n",
      "Epoch 11/50\n",
      "157/157 [==============================] - 1s 4ms/step - loss: 0.0088 - accuracy: 0.9989 - val_loss: 0.1999 - val_accuracy: 0.9408\n",
      "Epoch 12/50\n",
      "157/157 [==============================] - 1s 3ms/step - loss: 0.0048 - accuracy: 0.9999 - val_loss: 0.2109 - val_accuracy: 0.9408\n",
      "Epoch 13/50\n",
      "157/157 [==============================] - 1s 3ms/step - loss: 0.0052 - accuracy: 0.9999 - val_loss: 0.2197 - val_accuracy: 0.9392\n",
      "Epoch 14/50\n",
      "157/157 [==============================] - 1s 4ms/step - loss: 0.0053 - accuracy: 0.9998 - val_loss: 0.2144 - val_accuracy: 0.9424\n",
      "Epoch 15/50\n",
      "157/157 [==============================] - 1s 4ms/step - loss: 0.0041 - accuracy: 1.0000 - val_loss: 0.2006 - val_accuracy: 0.9444\n",
      "Epoch 16/50\n",
      "157/157 [==============================] - 1s 4ms/step - loss: 0.0043 - accuracy: 0.9998 - val_loss: 0.2156 - val_accuracy: 0.9394\n",
      "Epoch 17/50\n",
      "157/157 [==============================] - 1s 3ms/step - loss: 0.0048 - accuracy: 0.9998 - val_loss: 0.2593 - val_accuracy: 0.9370\n",
      "Epoch 18/50\n",
      "157/157 [==============================] - 1s 4ms/step - loss: 0.0118 - accuracy: 0.9972 - val_loss: 0.2931 - val_accuracy: 0.9268\n",
      "Epoch 19/50\n",
      "157/157 [==============================] - 1s 4ms/step - loss: 0.0250 - accuracy: 0.9940 - val_loss: 0.3086 - val_accuracy: 0.9202\n",
      "Epoch 20/50\n",
      "157/157 [==============================] - 1s 4ms/step - loss: 0.0422 - accuracy: 0.9886 - val_loss: 0.2270 - val_accuracy: 0.9356\n",
      "Epoch 21/50\n",
      "157/157 [==============================] - 1s 5ms/step - loss: 0.0333 - accuracy: 0.9886 - val_loss: 0.2520 - val_accuracy: 0.9332\n",
      "Epoch 22/50\n",
      "157/157 [==============================] - 1s 4ms/step - loss: 0.0225 - accuracy: 0.9944 - val_loss: 0.1934 - val_accuracy: 0.9458\n",
      "Epoch 23/50\n",
      "157/157 [==============================] - 1s 4ms/step - loss: 0.0075 - accuracy: 0.9993 - val_loss: 0.1998 - val_accuracy: 0.9470\n",
      "Epoch 24/50\n",
      "157/157 [==============================] - 1s 4ms/step - loss: 0.0046 - accuracy: 0.9992 - val_loss: 0.2064 - val_accuracy: 0.9454\n",
      "Epoch 25/50\n",
      "157/157 [==============================] - 1s 4ms/step - loss: 0.0037 - accuracy: 0.9997 - val_loss: 0.2075 - val_accuracy: 0.9482\n",
      "Epoch 26/50\n",
      "157/157 [==============================] - 1s 4ms/step - loss: 0.0027 - accuracy: 1.0000 - val_loss: 0.2219 - val_accuracy: 0.9434\n",
      "Epoch 27/50\n",
      "157/157 [==============================] - 1s 4ms/step - loss: 0.0037 - accuracy: 0.9997 - val_loss: 0.2090 - val_accuracy: 0.9468\n",
      "Epoch 28/50\n",
      "157/157 [==============================] - 1s 4ms/step - loss: 0.0029 - accuracy: 0.9998 - val_loss: 0.2023 - val_accuracy: 0.9502\n",
      "Epoch 29/50\n",
      "157/157 [==============================] - 1s 4ms/step - loss: 0.0023 - accuracy: 0.9997 - val_loss: 0.2231 - val_accuracy: 0.9452\n",
      "Epoch 30/50\n",
      "157/157 [==============================] - 1s 4ms/step - loss: 0.0049 - accuracy: 0.9992 - val_loss: 0.2171 - val_accuracy: 0.9482\n",
      "Epoch 31/50\n",
      "157/157 [==============================] - 1s 4ms/step - loss: 0.0031 - accuracy: 0.9996 - val_loss: 0.2255 - val_accuracy: 0.9460\n",
      "Epoch 32/50\n",
      "157/157 [==============================] - 1s 4ms/step - loss: 0.0080 - accuracy: 0.9986 - val_loss: 0.2372 - val_accuracy: 0.9416\n",
      "Epoch 33/50\n",
      "157/157 [==============================] - 1s 4ms/step - loss: 0.0148 - accuracy: 0.9958 - val_loss: 0.2709 - val_accuracy: 0.9382\n",
      "Epoch 34/50\n",
      "157/157 [==============================] - 1s 4ms/step - loss: 0.0262 - accuracy: 0.9898 - val_loss: 0.2706 - val_accuracy: 0.9384\n",
      "Epoch 35/50\n",
      "157/157 [==============================] - 1s 3ms/step - loss: 0.0220 - accuracy: 0.9940 - val_loss: 0.2703 - val_accuracy: 0.9360\n",
      "Epoch 36/50\n",
      "157/157 [==============================] - 1s 4ms/step - loss: 0.0127 - accuracy: 0.9959 - val_loss: 0.2300 - val_accuracy: 0.9458\n",
      "Epoch 37/50\n",
      "157/157 [==============================] - 1s 4ms/step - loss: 0.0065 - accuracy: 0.9988 - val_loss: 0.2182 - val_accuracy: 0.9506\n",
      "Epoch 38/50\n",
      "157/157 [==============================] - 1s 4ms/step - loss: 0.0051 - accuracy: 0.9989 - val_loss: 0.2069 - val_accuracy: 0.9528\n",
      "Epoch 39/50\n",
      "157/157 [==============================] - 1s 3ms/step - loss: 0.0023 - accuracy: 1.0000 - val_loss: 0.2055 - val_accuracy: 0.9520\n",
      "Epoch 40/50\n",
      "157/157 [==============================] - 1s 3ms/step - loss: 0.0026 - accuracy: 0.9995 - val_loss: 0.2227 - val_accuracy: 0.9494\n",
      "Epoch 41/50\n",
      "157/157 [==============================] - 1s 4ms/step - loss: 0.0025 - accuracy: 0.9996 - val_loss: 0.2395 - val_accuracy: 0.9492\n",
      "Epoch 42/50\n",
      "157/157 [==============================] - 1s 3ms/step - loss: 0.0024 - accuracy: 0.9999 - val_loss: 0.2203 - val_accuracy: 0.9500\n",
      "Epoch 43/50\n",
      "157/157 [==============================] - 1s 3ms/step - loss: 0.0090 - accuracy: 0.9983 - val_loss: 0.2661 - val_accuracy: 0.9378\n",
      "Epoch 44/50\n",
      "157/157 [==============================] - 1s 3ms/step - loss: 0.0050 - accuracy: 0.9989 - val_loss: 0.2379 - val_accuracy: 0.9452\n",
      "Epoch 45/50\n",
      "157/157 [==============================] - 1s 4ms/step - loss: 0.0056 - accuracy: 0.9990 - val_loss: 0.2233 - val_accuracy: 0.9476\n",
      "Epoch 46/50\n",
      "157/157 [==============================] - 1s 4ms/step - loss: 0.0025 - accuracy: 0.9992 - val_loss: 0.2448 - val_accuracy: 0.9472\n",
      "Epoch 47/50\n",
      "157/157 [==============================] - 1s 4ms/step - loss: 0.0146 - accuracy: 0.9958 - val_loss: 0.2386 - val_accuracy: 0.9440\n",
      "Epoch 48/50\n",
      "157/157 [==============================] - 1s 4ms/step - loss: 0.0054 - accuracy: 0.9989 - val_loss: 0.2457 - val_accuracy: 0.9456\n",
      "Epoch 49/50\n",
      "157/157 [==============================] - 1s 4ms/step - loss: 0.0035 - accuracy: 0.9992 - val_loss: 0.2183 - val_accuracy: 0.9518\n",
      "Epoch 50/50\n",
      "157/157 [==============================] - 1s 3ms/step - loss: 0.0018 - accuracy: 0.9996 - val_loss: 0.2320 - val_accuracy: 0.9482\n"
     ]
    }
   ],
   "source": [
    "his = model.fit(x_train_data, y_train_data, epochs=50, batch_size=32, validation_data=(x_valid, y_valid))"
   ]
  },
  {
   "cell_type": "code",
   "execution_count": 21,
   "metadata": {},
   "outputs": [
    {
     "data": {
      "image/png": "[encoded data removed]",
      "text/plain": [
       "<Figure size 432x288 with 1 Axes>"
      ]
     },
     "metadata": {
      "needs_background": "light"
     },
     "output_type": "display_data"
    }
   ],
   "source": [
    "plt.plot(his.history['loss'])\n",
    "plt.plot(his.history['val_loss'])\n",
    "plt.show()"
   ]
  },
  {
   "cell_type": "code",
   "execution_count": null,
   "metadata": {},
   "outputs": [],
   "source": []
  }
 ],
 "metadata": {
  "kernelspec": {
   "display_name": "Python 3",
   "language": "python",
   "name": "python3"
  },
  "language_info": {
   "codemirror_mode": {
    "name": "ipython",
    "version": 3
   },
   "file_extension": ".py",
   "mimetype": "text/x-python",
   "name": "python",
   "nbconvert_exporter": "python",
   "pygments_lexer": "ipython3",
   "version": "3.8.5"
  }
 },
 "nbformat": 4,
 "nbformat_minor": 4
}
