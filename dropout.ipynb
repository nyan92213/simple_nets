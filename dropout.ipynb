{
 "cells": [
  {
   "cell_type": "code",
   "execution_count": 20,
   "metadata": {},
   "outputs": [],
   "source": [
    "import numpy as np\n",
    "import matplotlib.pyplot as plt\n",
    "from tensorflow.keras.datasets import mnist\n",
    "from tensorflow import keras\n",
    "from tensorflow.keras.layers import Dense, Flatten, Dropout"
   ]
  },
  {
   "cell_type": "code",
   "execution_count": 21,
   "metadata": {},
   "outputs": [],
   "source": [
    "(x_train, y_train), (x_test, y_test) = mnist.load_data()"
   ]
  },
  {
   "cell_type": "code",
   "execution_count": 22,
   "metadata": {},
   "outputs": [],
   "source": [
    "x_train = x_train / 255\n",
    "x_test = x_test / 255"
   ]
  },
  {
   "cell_type": "code",
   "execution_count": 23,
   "metadata": {},
   "outputs": [],
   "source": [
    "y_train_cat = keras.utils.to_categorical(y_train, 10)\n",
    "y_test_cat = keras.utils.to_categorical(y_test, 10)"
   ]
  },
  {
   "cell_type": "code",
   "execution_count": 28,
   "metadata": {},
   "outputs": [],
   "source": [
    "limit = 5000\n",
    "x_train_data = x_train[:limit]\n",
    "y_train_data = y_train_cat[:limit]\n",
    "\n",
    "x_valid = x_train[limit:limit*2]\n",
    "y_valid = y_train_cat[limit:limit*2]"
   ]
  },
  {
   "cell_type": "code",
   "execution_count": 38,
   "metadata": {},
   "outputs": [],
   "source": [
    "model = keras.Sequential([\n",
    "    Flatten(input_shape=(28, 28, 1)),\n",
    "    Dense(300, activation='relu'),\n",
    "    Dropout(0.8), #!!!Dropout\n",
    "    Dense(10, activation='softmax')\n",
    "])"
   ]
  },
  {
   "cell_type": "code",
   "execution_count": 35,
   "metadata": {},
   "outputs": [],
   "source": [
    "model.compile(optimizer='adam',\n",
    "             loss='categorical_crossentropy',\n",
    "             metrics=['accuracy'])"
   ]
  },
  {
   "cell_type": "code",
   "execution_count": 36,
   "metadata": {},
   "outputs": [
    {
     "name": "stdout",
     "output_type": "stream",
     "text": [
      "Epoch 1/50\n",
      "157/157 [==============================] - 1s 6ms/step - loss: 1.5880 - accuracy: 0.4750 - val_loss: 0.4872 - val_accuracy: 0.8762\n",
      "Epoch 2/50\n",
      "157/157 [==============================] - 1s 4ms/step - loss: 0.6481 - accuracy: 0.7987 - val_loss: 0.3824 - val_accuracy: 0.8914\n",
      "Epoch 3/50\n",
      "157/157 [==============================] - 1s 4ms/step - loss: 0.4857 - accuracy: 0.8525 - val_loss: 0.3276 - val_accuracy: 0.9084\n",
      "Epoch 4/50\n",
      "157/157 [==============================] - 1s 4ms/step - loss: 0.4272 - accuracy: 0.8693 - val_loss: 0.3044 - val_accuracy: 0.9146\n",
      "Epoch 5/50\n",
      "157/157 [==============================] - 1s 4ms/step - loss: 0.4059 - accuracy: 0.8770 - val_loss: 0.2838 - val_accuracy: 0.9184\n",
      "Epoch 6/50\n",
      "157/157 [==============================] - 1s 4ms/step - loss: 0.3635 - accuracy: 0.8964 - val_loss: 0.2713 - val_accuracy: 0.9194\n",
      "Epoch 7/50\n",
      "157/157 [==============================] - 1s 4ms/step - loss: 0.3243 - accuracy: 0.8966 - val_loss: 0.2621 - val_accuracy: 0.9196\n",
      "Epoch 8/50\n",
      "157/157 [==============================] - 1s 4ms/step - loss: 0.3070 - accuracy: 0.9076 - val_loss: 0.2446 - val_accuracy: 0.9258\n",
      "Epoch 9/50\n",
      "157/157 [==============================] - 1s 4ms/step - loss: 0.2959 - accuracy: 0.9107 - val_loss: 0.2441 - val_accuracy: 0.9262\n",
      "Epoch 10/50\n",
      "157/157 [==============================] - 1s 4ms/step - loss: 0.2748 - accuracy: 0.9152 - val_loss: 0.2364 - val_accuracy: 0.9286\n",
      "Epoch 11/50\n",
      "157/157 [==============================] - 1s 4ms/step - loss: 0.2527 - accuracy: 0.9256 - val_loss: 0.2275 - val_accuracy: 0.9290\n",
      "Epoch 12/50\n",
      "157/157 [==============================] - 1s 4ms/step - loss: 0.2352 - accuracy: 0.9319 - val_loss: 0.2247 - val_accuracy: 0.9318\n",
      "Epoch 13/50\n",
      "157/157 [==============================] - 1s 4ms/step - loss: 0.2336 - accuracy: 0.9237 - val_loss: 0.2220 - val_accuracy: 0.9312\n",
      "Epoch 14/50\n",
      "157/157 [==============================] - 1s 4ms/step - loss: 0.2197 - accuracy: 0.9341 - val_loss: 0.2176 - val_accuracy: 0.9320\n",
      "Epoch 15/50\n",
      "157/157 [==============================] - 1s 4ms/step - loss: 0.2364 - accuracy: 0.9262 - val_loss: 0.2211 - val_accuracy: 0.9356\n",
      "Epoch 16/50\n",
      "157/157 [==============================] - 1s 4ms/step - loss: 0.2160 - accuracy: 0.9356 - val_loss: 0.2102 - val_accuracy: 0.9340\n",
      "Epoch 17/50\n",
      "157/157 [==============================] - 1s 4ms/step - loss: 0.1978 - accuracy: 0.9454 - val_loss: 0.2142 - val_accuracy: 0.9328\n",
      "Epoch 18/50\n",
      "157/157 [==============================] - 1s 4ms/step - loss: 0.2248 - accuracy: 0.9288 - val_loss: 0.2053 - val_accuracy: 0.9372\n",
      "Epoch 19/50\n",
      "157/157 [==============================] - 1s 4ms/step - loss: 0.1909 - accuracy: 0.9432 - val_loss: 0.2079 - val_accuracy: 0.9378\n",
      "Epoch 20/50\n",
      "157/157 [==============================] - 1s 4ms/step - loss: 0.1673 - accuracy: 0.9504 - val_loss: 0.2096 - val_accuracy: 0.9360\n",
      "Epoch 21/50\n",
      "157/157 [==============================] - 1s 4ms/step - loss: 0.1775 - accuracy: 0.9463 - val_loss: 0.2147 - val_accuracy: 0.9374\n",
      "Epoch 22/50\n",
      "157/157 [==============================] - 1s 4ms/step - loss: 0.1643 - accuracy: 0.9546 - val_loss: 0.2079 - val_accuracy: 0.9374\n",
      "Epoch 23/50\n",
      "157/157 [==============================] - 1s 4ms/step - loss: 0.1764 - accuracy: 0.9415 - val_loss: 0.2043 - val_accuracy: 0.9394\n",
      "Epoch 24/50\n",
      "157/157 [==============================] - 1s 4ms/step - loss: 0.1686 - accuracy: 0.9471 - val_loss: 0.2102 - val_accuracy: 0.9414\n",
      "Epoch 25/50\n",
      "157/157 [==============================] - 1s 4ms/step - loss: 0.1600 - accuracy: 0.9472 - val_loss: 0.2135 - val_accuracy: 0.9412\n",
      "Epoch 26/50\n",
      "157/157 [==============================] - 1s 4ms/step - loss: 0.1498 - accuracy: 0.9487 - val_loss: 0.2115 - val_accuracy: 0.9386\n",
      "Epoch 27/50\n",
      "157/157 [==============================] - 1s 4ms/step - loss: 0.1576 - accuracy: 0.9448 - val_loss: 0.1986 - val_accuracy: 0.9436\n",
      "Epoch 28/50\n",
      "157/157 [==============================] - 1s 4ms/step - loss: 0.1615 - accuracy: 0.9507 - val_loss: 0.2174 - val_accuracy: 0.9392\n",
      "Epoch 29/50\n",
      "157/157 [==============================] - 1s 4ms/step - loss: 0.1515 - accuracy: 0.9525 - val_loss: 0.2032 - val_accuracy: 0.9434\n",
      "Epoch 30/50\n",
      "157/157 [==============================] - 1s 4ms/step - loss: 0.1467 - accuracy: 0.9519 - val_loss: 0.2082 - val_accuracy: 0.9402\n",
      "Epoch 31/50\n",
      "157/157 [==============================] - 1s 4ms/step - loss: 0.1353 - accuracy: 0.9600 - val_loss: 0.2053 - val_accuracy: 0.9452\n",
      "Epoch 32/50\n",
      "157/157 [==============================] - 1s 4ms/step - loss: 0.1432 - accuracy: 0.9501 - val_loss: 0.2085 - val_accuracy: 0.9416\n",
      "Epoch 33/50\n",
      "157/157 [==============================] - 1s 4ms/step - loss: 0.1319 - accuracy: 0.9582 - val_loss: 0.2023 - val_accuracy: 0.9442\n",
      "Epoch 34/50\n",
      "157/157 [==============================] - 1s 4ms/step - loss: 0.1148 - accuracy: 0.9556 - val_loss: 0.2028 - val_accuracy: 0.9434\n",
      "Epoch 35/50\n",
      "157/157 [==============================] - 1s 4ms/step - loss: 0.1371 - accuracy: 0.9542 - val_loss: 0.2047 - val_accuracy: 0.9432\n",
      "Epoch 36/50\n",
      "157/157 [==============================] - 1s 4ms/step - loss: 0.1428 - accuracy: 0.9529 - val_loss: 0.1996 - val_accuracy: 0.9458\n",
      "Epoch 37/50\n",
      "157/157 [==============================] - 1s 4ms/step - loss: 0.1266 - accuracy: 0.9600 - val_loss: 0.2092 - val_accuracy: 0.9446\n",
      "Epoch 38/50\n",
      "157/157 [==============================] - 1s 4ms/step - loss: 0.1296 - accuracy: 0.9518 - val_loss: 0.2112 - val_accuracy: 0.9444\n",
      "Epoch 39/50\n",
      "157/157 [==============================] - 1s 4ms/step - loss: 0.1284 - accuracy: 0.9555 - val_loss: 0.2213 - val_accuracy: 0.9432\n",
      "Epoch 40/50\n",
      "157/157 [==============================] - 1s 4ms/step - loss: 0.0993 - accuracy: 0.9690 - val_loss: 0.2203 - val_accuracy: 0.9434\n",
      "Epoch 41/50\n",
      "157/157 [==============================] - 1s 4ms/step - loss: 0.1246 - accuracy: 0.9596 - val_loss: 0.2063 - val_accuracy: 0.9444\n",
      "Epoch 42/50\n",
      "157/157 [==============================] - 1s 4ms/step - loss: 0.1072 - accuracy: 0.9614 - val_loss: 0.2236 - val_accuracy: 0.9426\n",
      "Epoch 43/50\n",
      "157/157 [==============================] - 1s 4ms/step - loss: 0.1063 - accuracy: 0.9662 - val_loss: 0.2322 - val_accuracy: 0.9430\n",
      "Epoch 44/50\n",
      "157/157 [==============================] - 1s 4ms/step - loss: 0.1200 - accuracy: 0.9591 - val_loss: 0.2210 - val_accuracy: 0.9452\n",
      "Epoch 45/50\n",
      "157/157 [==============================] - 1s 4ms/step - loss: 0.0896 - accuracy: 0.9695 - val_loss: 0.2221 - val_accuracy: 0.9452\n",
      "Epoch 46/50\n",
      "157/157 [==============================] - 1s 4ms/step - loss: 0.1043 - accuracy: 0.9627 - val_loss: 0.2241 - val_accuracy: 0.9448\n",
      "Epoch 47/50\n",
      "157/157 [==============================] - 1s 4ms/step - loss: 0.0986 - accuracy: 0.9653 - val_loss: 0.2211 - val_accuracy: 0.9442\n",
      "Epoch 48/50\n",
      "157/157 [==============================] - 1s 4ms/step - loss: 0.1109 - accuracy: 0.9630 - val_loss: 0.2251 - val_accuracy: 0.9440\n",
      "Epoch 49/50\n",
      "157/157 [==============================] - 1s 4ms/step - loss: 0.1025 - accuracy: 0.9636 - val_loss: 0.2283 - val_accuracy: 0.9438\n",
      "Epoch 50/50\n",
      "157/157 [==============================] - 1s 4ms/step - loss: 0.1053 - accuracy: 0.9670 - val_loss: 0.2209 - val_accuracy: 0.9452\n"
     ]
    }
   ],
   "source": [
    "his = model.fit(x_train_data, y_train_data, epochs=50, batch_size=32, validation_data=(x_valid, y_valid))"
   ]
  },
  {
   "cell_type": "code",
   "execution_count": 37,
   "metadata": {},
   "outputs": [
    {
     "data": {
      "image/png": "[encoded data removed]",
      "text/plain": [
       "<Figure size 432x288 with 1 Axes>"
      ]
     },
     "metadata": {
      "needs_background": "light"
     },
     "output_type": "display_data"
    }
   ],
   "source": [
    "plt.plot(his.history['loss'])\n",
    "plt.plot(his.history['val_loss'])\n",
    "plt.show()"
   ]
  },
  {
   "cell_type": "code",
   "execution_count": null,
   "metadata": {},
   "outputs": [],
   "source": []
  }
 ],
 "metadata": {
  "kernelspec": {
   "display_name": "Python 3",
   "language": "python",
   "name": "python3"
  },
  "language_info": {
   "codemirror_mode": {
    "name": "ipython",
    "version": 3
   },
   "file_extension": ".py",
   "mimetype": "text/x-python",
   "name": "python",
   "nbconvert_exporter": "python",
   "pygments_lexer": "ipython3",
   "version": "3.8.5"
  }
 },
 "nbformat": 4,
 "nbformat_minor": 4
}
