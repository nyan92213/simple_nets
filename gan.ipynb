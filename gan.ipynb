{
 "cells": [
  {
   "cell_type": "code",
   "execution_count": 3,
   "metadata": {},
   "outputs": [],
   "source": [
    "import numpy as np\n",
    "import matplotlib.pyplot as plt\n",
    "import time\n",
    "\n",
    "from tensorflow.keras.datasets import mnist\n",
    "from tensorflow import keras\n",
    "import keras.backend as K\n",
    "import tensorflow as tf\n",
    "from tensorflow.keras.layers import Dense, Flatten, Reshape, Input, Lambda, BatchNormalization, Dropout\n",
    "from tensorflow.keras.layers import Conv2D, LeakyReLU"
   ]
  },
  {
   "cell_type": "code",
   "execution_count": 4,
   "metadata": {},
   "outputs": [],
   "source": [
    "(x_train, y_train), (x_test, y_test) = mnist.load_data()"
   ]
  },
  {
   "cell_type": "code",
   "execution_count": 5,
   "metadata": {},
   "outputs": [],
   "source": [
    "x_train = x_train[y_train==7]\n",
    "y_train = y_train[y_train==7]"
   ]
  },
  {
   "cell_type": "code",
   "execution_count": 6,
   "metadata": {},
   "outputs": [],
   "source": [
    "BUFFER_SIZE = x_train.shape[0]\n",
    "BATCH_SIZE = 100"
   ]
  },
  {
   "cell_type": "code",
   "execution_count": 7,
   "metadata": {},
   "outputs": [
    {
     "name": "stdout",
     "output_type": "stream",
     "text": [
      "(6200, 28, 28) (6200,)\n"
     ]
    }
   ],
   "source": [
    "length = BUFFER_SIZE // BATCH_SIZE * BATCH_SIZE\n",
    "x_train = x_train[:length]\n",
    "y_train = y_train[:length]\n",
    "print(x_train.shape, y_train.shape)"
   ]
  },
  {
   "cell_type": "code",
   "execution_count": 8,
   "metadata": {},
   "outputs": [],
   "source": [
    "x_train = x_train / 255\n",
    "x_test = x_test / 255"
   ]
  },
  {
   "cell_type": "code",
   "execution_count": 9,
   "metadata": {},
   "outputs": [],
   "source": [
    "x_train = np.reshape(x_train, (len(x_train), 28, 28, 1))\n",
    "x_test  = np.reshape(x_test,  (len(x_test),  28, 28, 1))"
   ]
  },
  {
   "cell_type": "code",
   "execution_count": 10,
   "metadata": {},
   "outputs": [],
   "source": [
    "train_dataset = tf.data.Dataset.from_tensor_slices(x_train).shuffle(BUFFER_SIZE).batch(BATCH_SIZE)"
   ]
  },
  {
   "cell_type": "code",
   "execution_count": 11,
   "metadata": {},
   "outputs": [],
   "source": [
    "# формирование сетей\n",
    "hidden_dim = 2"
   ]
  },
  {
   "cell_type": "code",
   "execution_count": 12,
   "metadata": {},
   "outputs": [],
   "source": [
    "def dropout_and_batch(x):\n",
    "    return Dropout(0.3)(BatchNormalization()(x))"
   ]
  },
  {
   "cell_type": "code",
   "execution_count": 13,
   "metadata": {},
   "outputs": [],
   "source": [
    "input_img = Input((28, 28, 1))\n",
    "x = Flatten()(input_img)\n",
    "x = Dense(256, activation='relu')(x)\n",
    "x = dropout_and_batch(x)\n",
    "\n",
    "z_mean = Dense(hidden_dim)(x)\n",
    "z_log_var = Dense(hidden_dim)(x)"
   ]
  },
  {
   "cell_type": "code",
   "execution_count": 14,
   "metadata": {},
   "outputs": [],
   "source": [
    "def noiser(args):\n",
    "    global z_mean, z_log_var\n",
    "    z_mean, z_log_var = args\n",
    "    N = K.random_normal(shape=(BATCH_SIZE, hidden_dim), mean=0., stddev=1.0)\n",
    "    return K.exp(z_log_var / 2) * N + z_mean"
   ]
  },
  {
   "cell_type": "code",
   "execution_count": 15,
   "metadata": {},
   "outputs": [],
   "source": [
    "h = Lambda(noiser, output_shape=(hidden_dim,))([z_mean, z_log_var])"
   ]
  },
  {
   "cell_type": "code",
   "execution_count": 16,
   "metadata": {},
   "outputs": [],
   "source": [
    "input_dec = Input(shape=(hidden_dim,))\n",
    "d = Dense(256, activation='relu')(input_dec)\n",
    "d = dropout_and_batch(d)\n",
    "d = Dense(28*28, activation='sigmoid')(d)\n",
    "decoded = Reshape((28, 28, 1))(d)"
   ]
  },
  {
   "cell_type": "code",
   "execution_count": 17,
   "metadata": {},
   "outputs": [],
   "source": [
    "encoder = keras.Model(input_img, h, name='encoder')\n",
    "decoder = keras.Model(input_dec, decoded, name='decoder')\n",
    "generator = keras.Model(input_img, decoder(encoder(input_img)), name=\"generator\")"
   ]
  },
  {
   "cell_type": "code",
   "execution_count": 18,
   "metadata": {},
   "outputs": [],
   "source": [
    "# дискриминатор\n",
    "discriminator = tf.keras.Sequential()\n",
    "discriminator.add(Conv2D(64, (5, 5), strides=(2, 2), padding='same', input_shape=[28, 28, 1]))\n",
    "discriminator.add(LeakyReLU())\n",
    "discriminator.add(Dropout(0.3))\n",
    "\n",
    "discriminator.add(Conv2D(128, (5, 5), strides=(2, 2), padding='same'))\n",
    "discriminator.add(LeakyReLU())\n",
    "discriminator.add(Dropout(0.3))\n",
    "\n",
    "discriminator.add(Flatten())\n",
    "discriminator.add(Dense(1))"
   ]
  },
  {
   "cell_type": "code",
   "execution_count": 19,
   "metadata": {},
   "outputs": [],
   "source": [
    "# потери\n",
    "cross_entropy = tf.keras.losses.BinaryCrossentropy(from_logits=True)"
   ]
  },
  {
   "cell_type": "code",
   "execution_count": 20,
   "metadata": {},
   "outputs": [],
   "source": [
    "def generator_loss(fake_output):\n",
    "    loss = cross_entropy(tf.ones_like(fake_output), fake_output)\n",
    "    kl_loss = -0.5 * K.sum(1 + z_log_var - K.square(z_mean) - K.exp(z_log_var), axis=-1)\n",
    "    return (loss + kl_loss*0.1)"
   ]
  },
  {
   "cell_type": "code",
   "execution_count": 21,
   "metadata": {},
   "outputs": [],
   "source": [
    "def discriminator_loss(real_output, fake_output):\n",
    "    real_loss = cross_entropy(tf.ones_like(real_output), real_output)\n",
    "    fake_loss = cross_entropy(tf.zeros_like(fake_output), fake_output)\n",
    "    total_loss = real_loss + fake_loss\n",
    "    return total_loss"
   ]
  },
  {
   "cell_type": "code",
   "execution_count": 22,
   "metadata": {},
   "outputs": [],
   "source": [
    "generator_optimizer = tf.keras.optimizers.Adam(1e-4)\n",
    "discriminator_optimizer = tf.keras.optimizers.Adam(1e-4)"
   ]
  },
  {
   "cell_type": "code",
   "execution_count": 23,
   "metadata": {},
   "outputs": [],
   "source": [
    "# обучение\n",
    "@tf.function\n",
    "def train_step(images):\n",
    "    with tf.GradientTape() as gen_tape, tf.GradientTape() as disc_tape:\n",
    "        generated_images = generator(images, training=True)\n",
    "\n",
    "        real_output = discriminator(images, training=True)\n",
    "        fake_output = discriminator(generated_images, training=True)\n",
    "\n",
    "        gen_loss = generator_loss(fake_output)\n",
    "        disc_loss = discriminator_loss(real_output, fake_output)\n",
    "\n",
    "    gradients_of_generator = gen_tape.gradient(gen_loss, generator.trainable_variables)\n",
    "    gradients_of_discriminator = disc_tape.gradient(disc_loss, discriminator.trainable_variables)\n",
    "\n",
    "    generator_optimizer.apply_gradients(zip(gradients_of_generator, generator.trainable_variables))\n",
    "    discriminator_optimizer.apply_gradients(zip(gradients_of_discriminator, discriminator.trainable_variables))\n",
    "\n",
    "    return gen_loss, disc_loss"
   ]
  },
  {
   "cell_type": "code",
   "execution_count": 24,
   "metadata": {},
   "outputs": [],
   "source": [
    "def train(dataset, epochs):\n",
    "    history = []\n",
    "    MAX_PRINT_LABEL = 10\n",
    "    th = BUFFER_SIZE // (BATCH_SIZE*MAX_PRINT_LABEL)\n",
    "\n",
    "    n_epoch = 1\n",
    "    for epoch in range(epochs):\n",
    "        print(f'{n_epoch}/{EPOCHS}: ', end='')\n",
    "\n",
    "        start = time.time()\n",
    "        n = 0\n",
    "\n",
    "        gen_loss_epoch = 0\n",
    "        for image_batch in dataset:\n",
    "            gen_loss, disc_loss = train_step(image_batch)\n",
    "            gen_loss_epoch += K.mean(gen_loss)\n",
    "            if( n % th == 0): print('=', end='')\n",
    "            n += 1\n",
    "\n",
    "        history += [gen_loss_epoch/n]\n",
    "        print(': '+str(history[-1]))\n",
    "        print ('Время эпохи {} в {} секундах'.format(epoch + 1, time.time()-start))\n",
    "\n",
    "        n_epoch += 1\n",
    "    return history"
   ]
  },
  {
   "cell_type": "code",
   "execution_count": 25,
   "metadata": {},
   "outputs": [],
   "source": [
    "EPOCHS = 50"
   ]
  },
  {
   "cell_type": "code",
   "execution_count": 26,
   "metadata": {},
   "outputs": [
    {
     "name": "stdout",
     "output_type": "stream",
     "text": [
      "1/50: ===========: tf.Tensor(2.5579681, shape=(), dtype=float32)\n",
      "Время эпохи 1 в 17.762282133102417 секундах\n",
      "2/50: ===========: tf.Tensor(6.191508, shape=(), dtype=float32)\n",
      "Время эпохи 2 в 16.250213146209717 секундах\n",
      "3/50: ===========: tf.Tensor(11.18361, shape=(), dtype=float32)\n",
      "Время эпохи 3 в 14.803533792495728 секундах\n",
      "4/50: ===========: tf.Tensor(17.28616, shape=(), dtype=float32)\n",
      "Время эпохи 4 в 14.539713621139526 секундах\n",
      "5/50: ===========: tf.Tensor(22.386559, shape=(), dtype=float32)\n",
      "Время эпохи 5 в 14.946938037872314 секундах\n",
      "6/50: ===========: tf.Tensor(23.598051, shape=(), dtype=float32)\n",
      "Время эпохи 6 в 16.826187133789062 секундах\n",
      "7/50: ===========: tf.Tensor(20.675253, shape=(), dtype=float32)\n",
      "Время эпохи 7 в 16.216389894485474 секундах\n",
      "8/50: ===========: tf.Tensor(17.493773, shape=(), dtype=float32)\n",
      "Время эпохи 8 в 15.920344829559326 секундах\n",
      "9/50: ===========: tf.Tensor(15.577266, shape=(), dtype=float32)\n",
      "Время эпохи 9 в 16.824015378952026 секундах\n",
      "10/50: ===========: tf.Tensor(15.246901, shape=(), dtype=float32)\n",
      "Время эпохи 10 в 18.55723738670349 секундах\n",
      "11/50: ===========: tf.Tensor(14.942175, shape=(), dtype=float32)\n",
      "Время эпохи 11 в 21.358949661254883 секундах\n",
      "12/50: ===========: tf.Tensor(15.516919, shape=(), dtype=float32)\n",
      "Время эпохи 12 в 16.255168676376343 секундах\n",
      "13/50: ===========: tf.Tensor(15.004305, shape=(), dtype=float32)\n",
      "Время эпохи 13 в 16.07966685295105 секундах\n",
      "14/50: ===========: tf.Tensor(13.989524, shape=(), dtype=float32)\n",
      "Время эпохи 14 в 15.924581527709961 секундах\n",
      "15/50: ===========: tf.Tensor(12.783515, shape=(), dtype=float32)\n",
      "Время эпохи 15 в 15.950008392333984 секундах\n",
      "16/50: ===========: tf.Tensor(13.145867, shape=(), dtype=float32)\n",
      "Время эпохи 16 в 16.309895753860474 секундах\n",
      "17/50: ===========: tf.Tensor(12.421133, shape=(), dtype=float32)\n",
      "Время эпохи 17 в 16.10749101638794 секундах\n",
      "18/50: ===========: tf.Tensor(12.103144, shape=(), dtype=float32)\n",
      "Время эпохи 18 в 15.90697717666626 секундах\n",
      "19/50: ===========: tf.Tensor(12.288809, shape=(), dtype=float32)\n",
      "Время эпохи 19 в 15.941277027130127 секундах\n",
      "20/50: ===========: tf.Tensor(10.271307, shape=(), dtype=float32)\n",
      "Время эпохи 20 в 15.754359245300293 секундах\n",
      "21/50: ===========: tf.Tensor(9.351653, shape=(), dtype=float32)\n",
      "Время эпохи 21 в 16.059902667999268 секундах\n",
      "22/50: ===========: tf.Tensor(9.328314, shape=(), dtype=float32)\n",
      "Время эпохи 22 в 15.873233318328857 секундах\n",
      "23/50: ===========: tf.Tensor(9.20816, shape=(), dtype=float32)\n",
      "Время эпохи 23 в 15.966439008712769 секундах\n",
      "24/50: ===========: tf.Tensor(8.964721, shape=(), dtype=float32)\n",
      "Время эпохи 24 в 16.108418703079224 секундах\n",
      "25/50: ===========: tf.Tensor(8.062116, shape=(), dtype=float32)\n",
      "Время эпохи 25 в 15.92045545578003 секундах\n",
      "26/50: ===========: tf.Tensor(8.783719, shape=(), dtype=float32)\n",
      "Время эпохи 26 в 18.15630030632019 секундах\n",
      "27/50: ===========: tf.Tensor(7.779528, shape=(), dtype=float32)\n",
      "Время эпохи 27 в 20.889978885650635 секундах\n",
      "28/50: ===========: tf.Tensor(7.2558827, shape=(), dtype=float32)\n",
      "Время эпохи 28 в 21.253116369247437 секундах\n",
      "29/50: ===========: tf.Tensor(7.545545, shape=(), dtype=float32)\n",
      "Время эпохи 29 в 20.882554292678833 секундах\n",
      "30/50: ===========: tf.Tensor(6.8114314, shape=(), dtype=float32)\n",
      "Время эпохи 30 в 20.956779718399048 секундах\n",
      "31/50: ===========: tf.Tensor(7.1124, shape=(), dtype=float32)\n",
      "Время эпохи 31 в 17.371057271957397 секундах\n",
      "32/50: ===========: tf.Tensor(6.4691834, shape=(), dtype=float32)\n",
      "Время эпохи 32 в 15.739516973495483 секундах\n",
      "33/50: ===========: tf.Tensor(6.352564, shape=(), dtype=float32)\n",
      "Время эпохи 33 в 19.979711771011353 секундах\n",
      "34/50: ===========: tf.Tensor(6.114492, shape=(), dtype=float32)\n",
      "Время эпохи 34 в 18.41993546485901 секундах\n",
      "35/50: ===========: tf.Tensor(5.9629555, shape=(), dtype=float32)\n",
      "Время эпохи 35 в 15.85120701789856 секундах\n",
      "36/50: ===========: tf.Tensor(5.6537204, shape=(), dtype=float32)\n",
      "Время эпохи 36 в 16.855541467666626 секундах\n",
      "37/50: ===========: tf.Tensor(5.783368, shape=(), dtype=float32)\n",
      "Время эпохи 37 в 16.01694369316101 секундах\n",
      "38/50: ===========: tf.Tensor(5.38884, shape=(), dtype=float32)\n",
      "Время эпохи 38 в 15.854509830474854 секундах\n",
      "39/50: ===========: tf.Tensor(5.516061, shape=(), dtype=float32)\n",
      "Время эпохи 39 в 17.59264349937439 секундах\n",
      "40/50: ===========: tf.Tensor(5.6308527, shape=(), dtype=float32)\n",
      "Время эпохи 40 в 15.912952661514282 секундах\n",
      "41/50: ===========: tf.Tensor(5.375151, shape=(), dtype=float32)\n",
      "Время эпохи 41 в 15.809797525405884 секундах\n",
      "42/50: ===========: tf.Tensor(5.515974, shape=(), dtype=float32)\n",
      "Время эпохи 42 в 16.8727810382843 секундах\n",
      "43/50: ===========: tf.Tensor(5.337749, shape=(), dtype=float32)\n",
      "Время эпохи 43 в 18.73666548728943 секундах\n",
      "44/50: ===========: tf.Tensor(5.162458, shape=(), dtype=float32)\n",
      "Время эпохи 44 в 21.213014602661133 секундах\n",
      "45/50: ===========: tf.Tensor(4.8022366, shape=(), dtype=float32)\n",
      "Время эпохи 45 в 18.333290338516235 секундах\n",
      "46/50: ===========: tf.Tensor(4.6691027, shape=(), dtype=float32)\n",
      "Время эпохи 46 в 15.205020666122437 секундах\n",
      "47/50: ===========: tf.Tensor(4.320365, shape=(), dtype=float32)\n",
      "Время эпохи 47 в 18.97502875328064 секундах\n",
      "48/50: ===========: tf.Tensor(4.1838536, shape=(), dtype=float32)\n",
      "Время эпохи 48 в 16.427631855010986 секундах\n",
      "49/50: ===========: tf.Tensor(4.122152, shape=(), dtype=float32)\n",
      "Время эпохи 49 в 15.922608852386475 секундах\n",
      "50/50: ===========: tf.Tensor(4.350338, shape=(), dtype=float32)\n",
      "Время эпохи 50 в 15.842845439910889 секундах\n"
     ]
    }
   ],
   "source": [
    "history = train(train_dataset, EPOCHS)"
   ]
  },
  {
   "cell_type": "code",
   "execution_count": 27,
   "metadata": {},
   "outputs": [
    {
     "data": {
      "text/plain": [
       "<matplotlib.collections.PathCollection at 0x28922a4d8b0>"
      ]
     },
     "execution_count": 27,
     "metadata": {},
     "output_type": "execute_result"
    },
    {
     "data": {
      "image/png": "[encoded data removed]",
      "text/plain": [
       "<Figure size 432x288 with 1 Axes>"
      ]
     },
     "metadata": {
      "needs_background": "light"
     },
     "output_type": "display_data"
    }
   ],
   "source": [
    "h = encoder.predict(x_test[:6000], batch_size=BATCH_SIZE)\n",
    "plt.scatter(h[:, 0], h[:, 1])"
   ]
  },
  {
   "cell_type": "code",
   "execution_count": 28,
   "metadata": {},
   "outputs": [
    {
     "data": {
      "text/plain": [
       "<Figure size 360x360 with 0 Axes>"
      ]
     },
     "execution_count": 28,
     "metadata": {},
     "output_type": "execute_result"
    },
    {
     "data": {
      "text/plain": [
       "<Figure size 360x360 with 0 Axes>"
      ]
     },
     "metadata": {},
     "output_type": "display_data"
    }
   ],
   "source": [
    "# отображение результатов генерации\n",
    "n = 2\n",
    "total = 2*n+1\n",
    "\n",
    "plt.figure(figsize=(total, total))"
   ]
  },
  {
   "cell_type": "code",
   "execution_count": 29,
   "metadata": {},
   "outputs": [
    {
     "data": {
      "image/png": "[encoded data removed]",
      "text/plain": [
       "<Figure size 432x288 with 25 Axes>"
      ]
     },
     "metadata": {
      "needs_background": "light"
     },
     "output_type": "display_data"
    }
   ],
   "source": [
    "num = 1\n",
    "for i in range(-n, n+1):\n",
    "    for j in range(-n, n+1):\n",
    "        ax = plt.subplot(total, total, num)\n",
    "        num += 1\n",
    "        img = decoder.predict(np.expand_dims([0.5*i/n, 0.5*j/n], axis=0))\n",
    "        plt.imshow(img.squeeze(), cmap='gray')\n",
    "        ax.get_xaxis().set_visible(False)\n",
    "        ax.get_yaxis().set_visible(False)"
   ]
  },
  {
   "cell_type": "code",
   "execution_count": null,
   "metadata": {},
   "outputs": [],
   "source": []
  }
 ],
 "metadata": {
  "kernelspec": {
   "display_name": "Python 3",
   "language": "python",
   "name": "python3"
  },
  "language_info": {
   "codemirror_mode": {
    "name": "ipython",
    "version": 3
   },
   "file_extension": ".py",
   "mimetype": "text/x-python",
   "name": "python",
   "nbconvert_exporter": "python",
   "pygments_lexer": "ipython3",
   "version": "3.8.5"
  }
 },
 "nbformat": 4,
 "nbformat_minor": 4
}
